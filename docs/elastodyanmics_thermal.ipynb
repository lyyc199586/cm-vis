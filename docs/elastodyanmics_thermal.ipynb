{
 "cells": [
  {
   "cell_type": "markdown",
   "metadata": {},
   "source": [
    "# 1D elastodynamics coupled with thermal expansion\n",
    "\n",
    "* 1D, 1 element"
   ]
  },
  {
   "cell_type": "markdown",
   "metadata": {},
   "source": [
    "## Strong form\n",
    "\n",
    "### Governing equation\n",
    "\n",
    "$$\n",
    "\\rho \\ddot{u}(x, t) = \\sigma_{, x}\n",
    "$$\n",
    "\n",
    "### Constitutive equation\n",
    "\n",
    "$$\n",
    "\\sigma = AE (u_{,x} - \\alpha \\Delta T)\n",
    "$$\n",
    "\n",
    "where \n",
    "* $A$ is the cross-sectional area.\n",
    "* $E$ is the elasticity modulus.\n",
    "* $\\alpha$ is the coefficient of thermal expansion.\n",
    "* $\\Delta T$ is the change in temperature."
   ]
  },
  {
   "cell_type": "markdown",
   "metadata": {},
   "source": [
    "## Weak form\n",
    "\n",
    "test function $v$:\n",
    "$$\n",
    "\\int_{\\Omega} \\rho\\ddot{u}v dx = \\int_{\\Omega} \\sigma_{,x} v dx\n",
    "$$\n",
    "\n",
    "Integration by parts to the RHS:\n",
    "$$\n",
    "\\int_{\\Omega} \\rho\\ddot{u}v dx = \\sigma v|_{\\partial \\Omega} - \\int_{\\Omega}\\sigma v_{,x} dx\n",
    "$$\n",
    "\n",
    "Substitute the constitutive equation\n",
    "$$\n",
    "\\int_{\\Omega} \\rho\\ddot{u}v dx = - \\int_{\\Omega}  AE (u_{,x} - \\alpha \\Delta T) v_{,x} dx\n",
    "$$"
   ]
  },
  {
   "cell_type": "markdown",
   "metadata": {},
   "source": [
    "## Discretization\n",
    "\n",
    "Linear shape function $N_i$\n",
    "$$\n",
    "u(x, t) = \\sum_i u_i(t) N_i (x)\n",
    "$$\n",
    "\n",
    "## Matrix form\n",
    "\n",
    "* Mass\n",
    "$$\n",
    "M_{ij} = \\int \\rho N_i N_j dx\n",
    "$$\n",
    "\n",
    "* Stiffness\n",
    "$$\n",
    "K_{ij} = \\int AE N_{i, x} N_{j, x} dx\n",
    "$$\n",
    "\n",
    "* Force\n",
    "$$\n",
    "F_j = \\int AE \\alpha \\Delta T N_{j, x} dx\n",
    "$$\n",
    "\n",
    "## Calculate F\n",
    "\n",
    "2 nodes, 1 element: [x_1, x_2]\n",
    "\n",
    "shape functions:\n",
    "$$\n",
    "N_1(x) = (x_2 - x)/(x_2 - x_1), N_2(x) = (x - x_1)/(x_2 - x_1)\n",
    "$$\n",
    "\n",
    "derivatives:\n",
    "$$\n",
    "N_{1, x} = -1/(x_2 - x_1), N_{2, x} = 1/(x_2 - x_1)\n",
    "$$\n",
    "\n",
    "$$\n",
    "F_1 = \\int_{x_1}^{x_2} AE \\alpha \\Delta T (-1/(x_2 - x_1)) dx = - AE \\alpha \\Delta T\n",
    "$$\n",
    "\n",
    "$$\n",
    "F_2 = \\int_{x_1}^{x_2} AE \\alpha \\Delta T (1/(x_2 - x_1)) dx = AE \\alpha \\Delta T\n",
    "$$\n",
    "\n",
    "Thus, the thermal load $\\bm{F} = AE\\alpha\\Delta T [-1, 1]^T$."
   ]
  }
 ],
 "metadata": {
  "language_info": {
   "name": "python"
  }
 },
 "nbformat": 4,
 "nbformat_minor": 2
}
